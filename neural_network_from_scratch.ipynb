# 🧠 Building a Neural Network From Scratch (Using NumPy)

This notebook demonstrates how to build a simple **feedforward neural network** from scratch using only NumPy — no deep learning frameworks.

We'll cover:
1. The intuition behind neural networks  
2. Implementing forward and backward propagation manually  
3. Training on the Iris dataset  
4. Visualizing loss and accuracy

By the end, you’ll understand what happens *under the hood* of frameworks like PyTorch and TensorFlow.
